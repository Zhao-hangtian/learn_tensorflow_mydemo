{
 "cells": [
  {
   "cell_type": "code",
   "execution_count": 1,
   "metadata": {},
   "outputs": [],
   "source": [
    "import tensorflow as tf"
   ]
  },
  {
   "cell_type": "code",
   "execution_count": 2,
   "metadata": {},
   "outputs": [],
   "source": [
    "aa = 3.\n",
    "bb = 4."
   ]
  },
  {
   "cell_type": "code",
   "execution_count": 18,
   "metadata": {},
   "outputs": [],
   "source": [
    "#A\n",
    "a = tf.constant(aa)\n",
    "b = tf.constant(bb)\n",
    "d = a + b\n",
    "c = a * b\n",
    "f = d + c\n",
    "e = d - c\n",
    "g = f / e"
   ]
  },
  {
   "cell_type": "code",
   "execution_count": 19,
   "metadata": {},
   "outputs": [
    {
     "name": "stdout",
     "output_type": "stream",
     "text": [
      "out =-3.799999952316284\n"
     ]
    }
   ],
   "source": [
    "with tf.Session() as sess:\n",
    "    outs = sess.run(g)\n",
    "print(\"out ={}\".format(outs))"
   ]
  },
  {
   "cell_type": "code",
   "execution_count": 3,
   "metadata": {},
   "outputs": [],
   "source": [
    "#B\n",
    "a = tf.constant(aa)\n",
    "b = tf.constant(bb)\n",
    "c = a * b\n",
    "d = tf.sin(c)\n",
    "e = b / d"
   ]
  },
  {
   "cell_type": "code",
   "execution_count": 4,
   "metadata": {},
   "outputs": [
    {
     "name": "stdout",
     "output_type": "stream",
     "text": [
      "out =-7.454718112945557\n"
     ]
    }
   ],
   "source": [
    "with tf.Session() as sess:\n",
    "    outs = sess.run(e)\n",
    "print(\"out ={}\".format(outs))"
   ]
  },
  {
   "cell_type": "code",
   "execution_count": 5,
   "metadata": {},
   "outputs": [
    {
     "name": "stdout",
     "output_type": "stream",
     "text": [
      "outs =[3.0, 4.0, 12.0, -0.53657293, -7.454718]\n",
      "<class 'numpy.float32'>\n"
     ]
    }
   ],
   "source": [
    "#B, get outs\n",
    "a = tf.constant(aa)\n",
    "b = tf.constant(bb)\n",
    "c = a * b\n",
    "d = tf.sin(c)\n",
    "e = b / d\n",
    "with tf.Session() as sess:\n",
    "    fetches = [a,b,c,d,e]\n",
    "    outs = sess.run(fetches)\n",
    "print(\"outs ={}\".format(outs))\n",
    "print(type(outs[0]))"
   ]
  },
  {
   "cell_type": "code",
   "execution_count": null,
   "metadata": {},
   "outputs": [],
   "source": []
  }
 ],
 "metadata": {
  "kernelspec": {
   "display_name": "Python 3",
   "language": "python",
   "name": "python3"
  },
  "language_info": {
   "codemirror_mode": {
    "name": "ipython",
    "version": 3
   },
   "file_extension": ".py",
   "mimetype": "text/x-python",
   "name": "python",
   "nbconvert_exporter": "python",
   "pygments_lexer": "ipython3",
   "version": "3.6.7"
  }
 },
 "nbformat": 4,
 "nbformat_minor": 2
}
