{
 "cells": [
  {
   "cell_type": "code",
   "execution_count": 1,
   "metadata": {},
   "outputs": [],
   "source": [
    "import tensorflow as tf\n",
    "import numpy as np"
   ]
  },
  {
   "cell_type": "code",
   "execution_count": 26,
   "metadata": {},
   "outputs": [],
   "source": [
    "# linear\n",
    "x_data = np.random.randn(2000,3)\n",
    "w_real = [0.3,0.49,0.1]\n",
    "b_real = -0.21\n",
    "\n",
    "noise = np.random.randn(1,2000)*0.11\n",
    "y_data = np.matmul(w_real, x_data.T) + b_real + noise"
   ]
  },
  {
   "cell_type": "code",
   "execution_count": 33,
   "metadata": {},
   "outputs": [
    {
     "data": {
      "image/png": "[encoded data removed]",
      "text/plain": [
       "<Figure size 432x288 with 1 Axes>"
      ]
     },
     "metadata": {
      "needs_background": "light"
     },
     "output_type": "display_data"
    }
   ],
   "source": [
    "from pylab import *\n",
    "plot(np.matmul(w_real, x_data.T) , y_data[0],'b')\n",
    "show()"
   ]
  },
  {
   "cell_type": "code",
   "execution_count": 60,
   "metadata": {},
   "outputs": [
    {
     "name": "stdout",
     "output_type": "stream",
     "text": [
      "0 [array([[0.28048062, 0.5124079 , 0.10912402]], dtype=float32), -0.2086019]\n",
      "5 [array([[0.30132067, 0.49051246, 0.09815262]], dtype=float32), -0.21078128]\n",
      "10 [array([[0.30132064, 0.4905125 , 0.09815262]], dtype=float32), -0.21078128]\n"
     ]
    }
   ],
   "source": [
    "num_steps = 10\n",
    "g = tf.Graph()\n",
    "wb_ = []\n",
    "Loss = 0\n",
    "with g.as_default():\n",
    "    x = tf.placeholder(tf.float32, shape=[None,3])\n",
    "    y_true = tf.placeholder(tf.float32, shape=None)\n",
    "    \n",
    "    with tf.name_scope('inference') as scope:\n",
    "        w = tf.Variable([[0,0,0]], dtype=tf.float32, name='weights')\n",
    "        b = tf.Variable(0,dtype=tf.float32,name='bias')\n",
    "        y_pred = tf.matmul(w,tf.transpose(x)) + b\n",
    "    \n",
    "    with tf.name_scope('loss') as scope:\n",
    "        loss = tf.reduce_mean(tf.square(y_pred-y_true))\n",
    "    \n",
    "    with tf.name_scope('train') as scope:\n",
    "        learning_rate = 0.5\n",
    "        optimizer = tf.train.GradientDescentOptimizer(learning_rate)\n",
    "        train = optimizer.minimize(loss)\n",
    "        \n",
    "    #init and \"run\"\n",
    "    init = tf.global_variables_initializer()\n",
    "    with tf.Session() as sess:\n",
    "        sess.run(init)\n",
    "        for step in range(num_steps):\n",
    "            sess.run(train, {x:x_data, y_true:y_data})\n",
    "            if (step % 5 == 0):\n",
    "                print(step, sess.run([w,b]))\n",
    "                wb_.append(sess.run([w,b]))\n",
    "        print(num_steps,sess.run([w,b]))"
   ]
  },
  {
   "cell_type": "code",
   "execution_count": 67,
   "metadata": {},
   "outputs": [],
   "source": [
    "# logs regr\n",
    "N = 20000\n",
    "def sigmoid(x):\n",
    "    return 1 / (1 + np.exp(-x))\n",
    "x_data = np.random.randn(N,3)\n",
    "w_real = [0.3,0.49,0.1]\n",
    "b_real = -0.21\n",
    "wxb = np.matmul(w_real, x_data.T) + b_real"
   ]
  },
  {
   "cell_type": "code",
   "execution_count": 68,
   "metadata": {},
   "outputs": [],
   "source": [
    "y_data_pre_noise = sigmoid(wxb)\n",
    "y_data = np.random.binomial(1,y_data_pre_noise)"
   ]
  },
  {
   "cell_type": "code",
   "execution_count": 70,
   "metadata": {},
   "outputs": [
    {
     "name": "stdout",
     "output_type": "stream",
     "text": [
      "0 [array([[0.03413917, 0.0567521 , 0.01075626]], dtype=float32), -0.023699999]\n",
      "5 [array([[0.15152235, 0.25187457, 0.0477285 ]], dtype=float32), -0.1035322]\n",
      "10 [array([[0.21460794, 0.35671923, 0.06764633]], dtype=float32), -0.14483438]\n",
      "15 [array([[0.24998927, 0.41550425, 0.07888368]], dtype=float32), -0.1671565]\n",
      "20 [array([[0.27040014, 0.44940558, 0.08541485]], dtype=float32), -0.17959338]\n",
      "25 [array([[0.2823747 , 0.46928838, 0.08927604]], dtype=float32), -0.18665856]\n",
      "30 [array([[0.2894697 , 0.48106557, 0.09158047]], dtype=float32), -0.19072257]\n",
      "35 [array([[0.29369798, 0.4880824 , 0.09296284]], dtype=float32), -0.19307968]\n",
      "40 [array([[0.2962264 , 0.49227738, 0.09379427]], dtype=float32), -0.19445458]\n",
      "45 [array([[0.2977414 , 0.49479035, 0.09429495]], dtype=float32), -0.19525985]\n",
      "50 [array([[0.29865018, 0.49629748, 0.09459658]], dtype=float32), -0.19573298]\n",
      "55 [array([[0.29919565, 0.497202  , 0.09477829]], dtype=float32), -0.1960116]\n",
      "60 [array([[0.29952317, 0.49774507, 0.09488774]], dtype=float32), -0.19617604]\n",
      "65 [array([[0.2997199 , 0.49807116, 0.09495364]], dtype=float32), -0.19627324]\n",
      "70 [array([[0.29983807, 0.49826702, 0.09499331]], dtype=float32), -0.19633079]\n",
      "75 [array([[0.29990903, 0.49838465, 0.09501718]], dtype=float32), -0.19636491]\n",
      "80 [array([[0.29995164, 0.49845532, 0.09503154]], dtype=float32), -0.19638515]\n",
      "85 [array([[0.29997724, 0.49849772, 0.09504016]], dtype=float32), -0.19639719]\n",
      "90 [array([[0.2999926 , 0.49852318, 0.09504536]], dtype=float32), -0.19640434]\n",
      "95 [array([[0.3000018 , 0.49853852, 0.09504849]], dtype=float32), -0.1964086]\n",
      "100 [array([[0.30000645, 0.4985462 , 0.09505006]], dtype=float32), -0.19641072]\n"
     ]
    }
   ],
   "source": [
    "num_steps = 100\n",
    "g = tf.Graph()\n",
    "wb_ = []\n",
    "Loss = 0\n",
    "with g.as_default():\n",
    "    x = tf.placeholder(tf.float32, shape=[None,3])\n",
    "    y_true = tf.placeholder(tf.float32, shape=None)\n",
    "    \n",
    "    with tf.name_scope('inference') as scope:\n",
    "        w = tf.Variable([[0,0,0]], dtype=tf.float32, name='weights')\n",
    "        b = tf.Variable(0,dtype=tf.float32,name='bias')\n",
    "        y_pred = tf.matmul(w,tf.transpose(x)) + b\n",
    "    \n",
    "    with tf.name_scope('loss') as scope:\n",
    "        loss = tf.nn.sigmoid_cross_entropy_with_logits(labels=y_true,logits=y_pred)\n",
    "        loss = tf.reduce_mean(loss)\n",
    "    \n",
    "    with tf.name_scope('train') as scope:\n",
    "        learning_rate = 0.5\n",
    "        optimizer = tf.train.GradientDescentOptimizer(learning_rate)\n",
    "        train = optimizer.minimize(loss)\n",
    "        \n",
    "    #init and \"run\"\n",
    "    init = tf.global_variables_initializer()\n",
    "    with tf.Session() as sess:\n",
    "        sess.run(init)\n",
    "        for step in range(num_steps):\n",
    "            sess.run(train, {x:x_data, y_true:y_data})\n",
    "            if (step % 5 == 0):\n",
    "                print(step, sess.run([w,b]))\n",
    "                wb_.append(sess.run([w,b]))\n",
    "        print(num_steps,sess.run([w,b]))"
   ]
  },
  {
   "cell_type": "code",
   "execution_count": null,
   "metadata": {},
   "outputs": [],
   "source": []
  }
 ],
 "metadata": {
  "kernelspec": {
   "display_name": "Python 3",
   "language": "python",
   "name": "python3"
  },
  "language_info": {
   "codemirror_mode": {
    "name": "ipython",
    "version": 3
   },
   "file_extension": ".py",
   "mimetype": "text/x-python",
   "name": "python",
   "nbconvert_exporter": "python",
   "pygments_lexer": "ipython3",
   "version": "3.6.7"
  }
 },
 "nbformat": 4,
 "nbformat_minor": 2
}
